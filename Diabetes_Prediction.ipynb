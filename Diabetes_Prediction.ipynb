{
  "nbformat": 4,
  "nbformat_minor": 0,
  "metadata": {
    "colab": {
      "name": "Diabetes Prediction.ipynb",
      "provenance": [],
      "authorship_tag": "ABX9TyNOlpt/0TCSc2fEwZXumbxK",
      "include_colab_link": true
    },
    "kernelspec": {
      "name": "python3",
      "display_name": "Python 3"
    },
    "language_info": {
      "name": "python"
    }
  },
  "cells": [
    {
      "cell_type": "markdown",
      "metadata": {
        "id": "view-in-github",
        "colab_type": "text"
      },
      "source": [
        "<a href=\"https://colab.research.google.com/github/Yatharth19/ML/blob/main/Diabetes_Prediction.ipynb\" target=\"_parent\"><img src=\"https://colab.research.google.com/assets/colab-badge.svg\" alt=\"Open In Colab\"/></a>"
      ]
    },
    {
      "cell_type": "code",
      "metadata": {
        "id": "bjbyzO1FIvBM"
      },
      "source": [
        "import pandas as pd\n",
        "import numpy as np\n",
        "from sklearn.preprocessing import StandardScaler\n",
        "from sklearn.model_selection import train_test_split\n",
        "from sklearn.svm import SVC #WE will be using support vector machine here\n",
        "from sklearn.metrics import accuracy_score"
      ],
      "execution_count": 1,
      "outputs": []
    },
    {
      "cell_type": "code",
      "metadata": {
        "id": "bsTCdNMkJMdu",
        "colab": {
          "base_uri": "https://localhost:8080/",
          "height": 130
        },
        "outputId": "80e9521c-f15c-4255-cc2c-4c86b9eafe60"
      },
      "source": [
        "\"diabetes_dataset=pd.read_csv(\"/content/diabetes.csv\")"
      ],
      "execution_count": 2,
      "outputs": [
        {
          "output_type": "error",
          "ename": "SyntaxError",
          "evalue": "ignored",
          "traceback": [
            "\u001b[0;36m  File \u001b[0;32m\"<ipython-input-2-46b2c6de549a>\"\u001b[0;36m, line \u001b[0;32m1\u001b[0m\n\u001b[0;31m    \"diabetes_dataset=pd.read_csv(\"/content/diabetes.csv\")\u001b[0m\n\u001b[0m                                                          ^\u001b[0m\n\u001b[0;31mSyntaxError\u001b[0m\u001b[0;31m:\u001b[0m EOL while scanning string literal\n"
          ]
        }
      ]
    },
    {
      "cell_type": "code",
      "metadata": {
        "id": "KWQ_jfGGJ0Hf"
      },
      "source": [
        "diabetes_dataset.head()"
      ],
      "execution_count": null,
      "outputs": []
    },
    {
      "cell_type": "code",
      "metadata": {
        "id": "edRRobzAM642"
      },
      "source": [
        "#checking if the data is balanced or not(means nearly same values of both the outcomes or not)\n",
        "diabetes_dataset['Outcome'].value_counts()"
      ],
      "execution_count": null,
      "outputs": []
    },
    {
      "cell_type": "code",
      "metadata": {
        "id": "gkJCspcOJ2in"
      },
      "source": [
        "#Checking for null values\n",
        "diabetes_dataset.isnull().sum()"
      ],
      "execution_count": null,
      "outputs": []
    },
    {
      "cell_type": "code",
      "metadata": {
        "id": "shxgL2MKK_Or"
      },
      "source": [
        "diabetes_dataset.describe()"
      ],
      "execution_count": null,
      "outputs": []
    },
    {
      "cell_type": "code",
      "metadata": {
        "id": "kWURyOXxLRj7"
      },
      "source": [
        "diabetes_dataset.shape"
      ],
      "execution_count": null,
      "outputs": []
    },
    {
      "cell_type": "code",
      "metadata": {
        "id": "9jRWC7IQLZ0y"
      },
      "source": [
        "X=diabetes_dataset.drop(columns='Outcome',axis=1)\n",
        "Y=diabetes_dataset['Outcome']"
      ],
      "execution_count": null,
      "outputs": []
    },
    {
      "cell_type": "code",
      "metadata": {
        "id": "QnamDOZnLs1f"
      },
      "source": [
        "#As there exists varying values, so to make them into the same range...\n",
        "#We do standardization\n",
        "\n",
        "scaler=StandardScaler()\n",
        "scaler.fit(X)\n",
        "standardized_data=scaler.transform(X)\n",
        "\n",
        "X=standardized_data\n",
        "#Y remains as it is as it only contains 0 and 1\n"
      ],
      "execution_count": null,
      "outputs": []
    },
    {
      "cell_type": "code",
      "metadata": {
        "id": "6nvWps5aMI9V"
      },
      "source": [
        "X"
      ],
      "execution_count": null,
      "outputs": []
    },
    {
      "cell_type": "code",
      "metadata": {
        "id": "n9nzX2AUMMzk"
      },
      "source": [
        "print(X,Y)"
      ],
      "execution_count": null,
      "outputs": []
    },
    {
      "cell_type": "code",
      "metadata": {
        "id": "wN4G0_HvMPvI"
      },
      "source": [
        "#Splitting the data\n",
        "X_train,X_test,Y_train,Y_test=train_test_split(X,Y,test_size=0.2,random_state=1)"
      ],
      "execution_count": null,
      "outputs": []
    },
    {
      "cell_type": "code",
      "metadata": {
        "id": "JQ60EDKeMpkS"
      },
      "source": [
        "print(X.shape,X_train.shape,X_test.shape)"
      ],
      "execution_count": null,
      "outputs": []
    },
    {
      "cell_type": "code",
      "metadata": {
        "id": "5NPk8FqQNKo2"
      },
      "source": [
        "#Checking whether appreciable(satisfactory) number of outcomes are distributed in both the sets or not\n",
        "print(Y_train.value_counts(),Y_test.value_counts())"
      ],
      "execution_count": null,
      "outputs": []
    },
    {
      "cell_type": "markdown",
      "metadata": {
        "id": "PhUzjp7TOrE4"
      },
      "source": [
        "Model Training"
      ]
    },
    {
      "cell_type": "code",
      "metadata": {
        "id": "-nJd2xYSMw-V"
      },
      "source": [
        "model=SVC()"
      ],
      "execution_count": null,
      "outputs": []
    },
    {
      "cell_type": "code",
      "metadata": {
        "id": "xamXSUqTOvNT"
      },
      "source": [
        "model.fit(X_train,Y_train)"
      ],
      "execution_count": null,
      "outputs": []
    },
    {
      "cell_type": "markdown",
      "metadata": {
        "id": "AtaRKsy3QH6-"
      },
      "source": [
        "Checking for accuracy"
      ]
    },
    {
      "cell_type": "code",
      "metadata": {
        "id": "r7gr3OqgPzAR"
      },
      "source": [
        "X_train_prediction=model.predict(X_train)\n",
        "X_train_accuracy=accuracy_score(X_train_prediction,Y_train)"
      ],
      "execution_count": null,
      "outputs": []
    },
    {
      "cell_type": "code",
      "metadata": {
        "id": "qbyTDOGwQft-"
      },
      "source": [
        "print(X_train_accuracy)"
      ],
      "execution_count": null,
      "outputs": []
    },
    {
      "cell_type": "markdown",
      "metadata": {
        "id": "3ZXvflfSQjy_"
      },
      "source": [
        "means 82% accuracy\n",
        "\n",
        "\n",
        "Now checking for test data"
      ]
    },
    {
      "cell_type": "code",
      "metadata": {
        "id": "9yzADLmAQiMM"
      },
      "source": [
        "X_test_prediction=model.predict(X_test)\n",
        "X_test_accuracy=accuracy_score(X_test_prediction,Y_test)"
      ],
      "execution_count": null,
      "outputs": []
    },
    {
      "cell_type": "code",
      "metadata": {
        "id": "Cictd-ETQ1ug"
      },
      "source": [
        "print(X_test_accuracy)"
      ],
      "execution_count": null,
      "outputs": []
    },
    {
      "cell_type": "markdown",
      "metadata": {
        "id": "q_NmnS4CQ7iQ"
      },
      "source": [
        "So 80% accuracy on test data"
      ]
    },
    {
      "cell_type": "markdown",
      "metadata": {
        "id": "ocBq6ZNfRDN5"
      },
      "source": [
        "MAKING A PREDICTIVE SYSTEM"
      ]
    },
    {
      "cell_type": "code",
      "metadata": {
        "id": "HdFvKqsWQ4xA"
      },
      "source": [
        "input_data=(6,148,72,35,0,33.6,0.627,50) #the first row of our dataset\n",
        "\n",
        "#Changing input data to numpy array\n",
        "input_data_as_numpy_array=np.asarray(input_data)\n",
        "\n",
        "#Reshaping numpy array to predict one instance\n",
        "input_data_reshaped=input_data_as_numpy_array.reshape(1,-1)\n",
        "\n",
        "prediction=model.predict(input_data_reshaped)\n",
        "print(prediction)\n",
        "\n",
        "if prediction==0:\n",
        "  print(\"Congrats! You dont have diabetes...\")\n",
        "else:\n",
        "  print(\"You have diabetes...You may visit a doctor if you wish to\")"
      ],
      "execution_count": null,
      "outputs": []
    },
    {
      "cell_type": "code",
      "metadata": {
        "id": "Sqt_srnNRbOS"
      },
      "source": [
        ""
      ],
      "execution_count": null,
      "outputs": []
    }
  ]
}