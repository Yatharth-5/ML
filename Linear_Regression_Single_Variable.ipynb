{
  "nbformat": 4,
  "nbformat_minor": 0,
  "metadata": {
    "colab": {
      "name": "Linear_Regression_Single_Variable.ipynb",
      "provenance": [],
      "authorship_tag": "ABX9TyMiLbso0slt4ljULzYSOybH",
      "include_colab_link": true
    },
    "kernelspec": {
      "name": "python3",
      "display_name": "Python 3"
    },
    "language_info": {
      "name": "python"
    }
  },
  "cells": [
    {
      "cell_type": "markdown",
      "metadata": {
        "id": "view-in-github",
        "colab_type": "text"
      },
      "source": [
        "<a href=\"https://colab.research.google.com/github/Yatharth19/ML/blob/main/Linear_Regression_Single_Variable.ipynb\" target=\"_parent\"><img src=\"https://colab.research.google.com/assets/colab-badge.svg\" alt=\"Open In Colab\"/></a>"
      ]
    },
    {
      "cell_type": "code",
      "metadata": {
        "id": "9GDphLy8JIfo"
      },
      "source": [
        "import pandas as pd\n",
        "import matplotlib.pyplot as plt \n",
        "from sklearn import linear_model\n",
        "reg=linear_model.LinearRegression()"
      ],
      "execution_count": null,
      "outputs": []
    },
    {
      "cell_type": "code",
      "metadata": {
        "id": "bPNVYdGnKx6A"
      },
      "source": [
        "dataset=pd.read_csv('/content/canada_per_capita_income.csv')\n"
      ],
      "execution_count": null,
      "outputs": []
    },
    {
      "cell_type": "code",
      "metadata": {
        "colab": {
          "base_uri": "https://localhost:8080/"
        },
        "id": "IQEMNr9nK-rt",
        "outputId": "d253e5b7-cab7-4cf8-d47a-b80bc9159910"
      },
      "source": [
        "print(dataset)\n"
      ],
      "execution_count": null,
      "outputs": [
        {
          "output_type": "stream",
          "text": [
            "    year  per capita income (US$)\n",
            "0   1970              3399.299037\n",
            "1   1971              3768.297935\n",
            "2   1972              4251.175484\n",
            "3   1973              4804.463248\n",
            "4   1974              5576.514583\n",
            "5   1975              5998.144346\n",
            "6   1976              7062.131392\n",
            "7   1977              7100.126170\n",
            "8   1978              7247.967035\n",
            "9   1979              7602.912681\n",
            "10  1980              8355.968120\n",
            "11  1981              9434.390652\n",
            "12  1982              9619.438377\n",
            "13  1983             10416.536590\n",
            "14  1984             10790.328720\n",
            "15  1985             11018.955850\n",
            "16  1986             11482.891530\n",
            "17  1987             12974.806620\n",
            "18  1988             15080.283450\n",
            "19  1989             16426.725480\n",
            "20  1990             16838.673200\n",
            "21  1991             17266.097690\n",
            "22  1992             16412.083090\n",
            "23  1993             15875.586730\n",
            "24  1994             15755.820270\n",
            "25  1995             16369.317250\n",
            "26  1996             16699.826680\n",
            "27  1997             17310.757750\n",
            "28  1998             16622.671870\n",
            "29  1999             17581.024140\n",
            "30  2000             18987.382410\n",
            "31  2001             18601.397240\n",
            "32  2002             19232.175560\n",
            "33  2003             22739.426280\n",
            "34  2004             25719.147150\n",
            "35  2005             29198.055690\n",
            "36  2006             32738.262900\n",
            "37  2007             36144.481220\n",
            "38  2008             37446.486090\n",
            "39  2009             32755.176820\n",
            "40  2010             38420.522890\n",
            "41  2011             42334.711210\n",
            "42  2012             42665.255970\n",
            "43  2013             42676.468370\n",
            "44  2014             41039.893600\n",
            "45  2015             35175.188980\n",
            "46  2016             34229.193630\n"
          ],
          "name": "stdout"
        }
      ]
    },
    {
      "cell_type": "code",
      "metadata": {
        "id": "O4shwuGjLAqC"
      },
      "source": [
        "X=dataset['year']\n",
        "y=dataset['per capita income (US$)']"
      ],
      "execution_count": null,
      "outputs": []
    },
    {
      "cell_type": "code",
      "metadata": {
        "colab": {
          "base_uri": "https://localhost:8080/"
        },
        "id": "FVKl41V2OISz",
        "outputId": "218e98cf-cf50-450a-c36c-fc8a201aa72c"
      },
      "source": [
        "X"
      ],
      "execution_count": null,
      "outputs": [
        {
          "output_type": "execute_result",
          "data": {
            "text/plain": [
              "0     1970\n",
              "1     1971\n",
              "2     1972\n",
              "3     1973\n",
              "4     1974\n",
              "5     1975\n",
              "6     1976\n",
              "7     1977\n",
              "8     1978\n",
              "9     1979\n",
              "10    1980\n",
              "11    1981\n",
              "12    1982\n",
              "13    1983\n",
              "14    1984\n",
              "15    1985\n",
              "16    1986\n",
              "17    1987\n",
              "18    1988\n",
              "19    1989\n",
              "20    1990\n",
              "21    1991\n",
              "22    1992\n",
              "23    1993\n",
              "24    1994\n",
              "25    1995\n",
              "26    1996\n",
              "27    1997\n",
              "28    1998\n",
              "29    1999\n",
              "30    2000\n",
              "31    2001\n",
              "32    2002\n",
              "33    2003\n",
              "34    2004\n",
              "35    2005\n",
              "36    2006\n",
              "37    2007\n",
              "38    2008\n",
              "39    2009\n",
              "40    2010\n",
              "41    2011\n",
              "42    2012\n",
              "43    2013\n",
              "44    2014\n",
              "45    2015\n",
              "46    2016\n",
              "Name: year, dtype: int64"
            ]
          },
          "metadata": {},
          "execution_count": 20
        }
      ]
    },
    {
      "cell_type": "code",
      "metadata": {
        "colab": {
          "base_uri": "https://localhost:8080/"
        },
        "id": "VYOdWdX6OYbk",
        "outputId": "09af3b81-d9d6-46b9-d97c-cff83546f7c4"
      },
      "source": [
        "y"
      ],
      "execution_count": null,
      "outputs": [
        {
          "output_type": "execute_result",
          "data": {
            "text/plain": [
              "0      3399.299037\n",
              "1      3768.297935\n",
              "2      4251.175484\n",
              "3      4804.463248\n",
              "4      5576.514583\n",
              "5      5998.144346\n",
              "6      7062.131392\n",
              "7      7100.126170\n",
              "8      7247.967035\n",
              "9      7602.912681\n",
              "10     8355.968120\n",
              "11     9434.390652\n",
              "12     9619.438377\n",
              "13    10416.536590\n",
              "14    10790.328720\n",
              "15    11018.955850\n",
              "16    11482.891530\n",
              "17    12974.806620\n",
              "18    15080.283450\n",
              "19    16426.725480\n",
              "20    16838.673200\n",
              "21    17266.097690\n",
              "22    16412.083090\n",
              "23    15875.586730\n",
              "24    15755.820270\n",
              "25    16369.317250\n",
              "26    16699.826680\n",
              "27    17310.757750\n",
              "28    16622.671870\n",
              "29    17581.024140\n",
              "30    18987.382410\n",
              "31    18601.397240\n",
              "32    19232.175560\n",
              "33    22739.426280\n",
              "34    25719.147150\n",
              "35    29198.055690\n",
              "36    32738.262900\n",
              "37    36144.481220\n",
              "38    37446.486090\n",
              "39    32755.176820\n",
              "40    38420.522890\n",
              "41    42334.711210\n",
              "42    42665.255970\n",
              "43    42676.468370\n",
              "44    41039.893600\n",
              "45    35175.188980\n",
              "46    34229.193630\n",
              "Name: per capita income (US$), dtype: float64"
            ]
          },
          "metadata": {},
          "execution_count": 21
        }
      ]
    },
    {
      "cell_type": "code",
      "metadata": {
        "colab": {
          "base_uri": "https://localhost:8080/"
        },
        "id": "6RwFYA4mO2WF",
        "outputId": "d7f53481-2deb-46d5-a901-5561db5d1735"
      },
      "source": [
        "y.shape"
      ],
      "execution_count": null,
      "outputs": [
        {
          "output_type": "execute_result",
          "data": {
            "text/plain": [
              "(47,)"
            ]
          },
          "metadata": {},
          "execution_count": 23
        }
      ]
    },
    {
      "cell_type": "code",
      "metadata": {
        "colab": {
          "base_uri": "https://localhost:8080/"
        },
        "id": "Hs4W7EQ5O5kV",
        "outputId": "59be6fb5-6eee-4f34-c9a2-33964fbc0f94"
      },
      "source": [
        "X.shape"
      ],
      "execution_count": null,
      "outputs": [
        {
          "output_type": "execute_result",
          "data": {
            "text/plain": [
              "(47,)"
            ]
          },
          "metadata": {},
          "execution_count": 24
        }
      ]
    },
    {
      "cell_type": "code",
      "metadata": {
        "colab": {
          "base_uri": "https://localhost:8080/",
          "height": 265
        },
        "id": "U0QvkeS5O-FW",
        "outputId": "116ddce9-f65d-4491-f1d2-146f98942b07"
      },
      "source": [
        "#%matplotlib inline\n",
        "plt.plot(X,y)\n",
        "plt.show()"
      ],
      "execution_count": null,
      "outputs": [
        {
          "output_type": "display_data",
          "data": {
            "image/png": "[encoded data removed]",
            "text/plain": [
              "<Figure size 432x288 with 1 Axes>"
            ]
          },
          "metadata": {
            "needs_background": "light"
          }
        }
      ]
    },
    {
      "cell_type": "code",
      "metadata": {
        "colab": {
          "base_uri": "https://localhost:8080/"
        },
        "id": "IeWj43UXPKa4",
        "outputId": "b5004d08-d26d-4ae2-faed-2d4038b5a430"
      },
      "source": [
        "reg.fit(dataset[['year']],y)"
      ],
      "execution_count": null,
      "outputs": [
        {
          "output_type": "execute_result",
          "data": {
            "text/plain": [
              "LinearRegression(copy_X=True, fit_intercept=True, n_jobs=None, normalize=False)"
            ]
          },
          "metadata": {},
          "execution_count": 47
        }
      ]
    },
    {
      "cell_type": "code",
      "metadata": {
        "colab": {
          "base_uri": "https://localhost:8080/"
        },
        "id": "v_XIdHM-P-9z",
        "outputId": "bb5f7a97-ee58-41c9-947d-82806a5cfe80"
      },
      "source": [
        "dataset.shape"
      ],
      "execution_count": null,
      "outputs": [
        {
          "output_type": "execute_result",
          "data": {
            "text/plain": [
              "(47, 2)"
            ]
          },
          "metadata": {},
          "execution_count": 43
        }
      ]
    },
    {
      "cell_type": "code",
      "metadata": {
        "colab": {
          "base_uri": "https://localhost:8080/"
        },
        "id": "iZBAWMO2Sp9F",
        "outputId": "48cdc3d4-e078-4813-9866-15f7f5f740b5"
      },
      "source": [
        "reg.predict([[2000]])"
      ],
      "execution_count": null,
      "outputs": [
        {
          "output_type": "execute_result",
          "data": {
            "text/plain": [
              "array([24719.39258996])"
            ]
          },
          "metadata": {},
          "execution_count": 49
        }
      ]
    },
    {
      "cell_type": "code",
      "metadata": {
        "colab": {
          "base_uri": "https://localhost:8080/"
        },
        "id": "Gi8Hw1IiVc-a",
        "outputId": "ad202e98-c8be-47a3-ae89-60b8778d1b8f"
      },
      "source": [
        "reg.coef_"
      ],
      "execution_count": null,
      "outputs": [
        {
          "output_type": "execute_result",
          "data": {
            "text/plain": [
              "array([828.46507522])"
            ]
          },
          "metadata": {},
          "execution_count": 52
        }
      ]
    },
    {
      "cell_type": "code",
      "metadata": {
        "colab": {
          "base_uri": "https://localhost:8080/"
        },
        "id": "zK05YImjWMHG",
        "outputId": "5fcb67ec-a829-44be-9996-21c00d0b4d3e"
      },
      "source": [
        "reg.intercept_"
      ],
      "execution_count": null,
      "outputs": [
        {
          "output_type": "execute_result",
          "data": {
            "text/plain": [
              "-1632210.7578554575"
            ]
          },
          "metadata": {},
          "execution_count": 53
        }
      ]
    },
    {
      "cell_type": "code",
      "metadata": {
        "colab": {
          "base_uri": "https://localhost:8080/",
          "height": 305
        },
        "id": "XNcq9qZxWUj7",
        "outputId": "16f05e39-5ea6-4d99-e52a-452d17b062a1"
      },
      "source": [
        "plt.xlabel('year',fontsize=20)\n",
        "plt.ylabel('per capita income',fontsize=20)\n",
        "plt.scatter(X,y,color='red')\n",
        "plt.plot(dataset.year,reg.predict(dataset[['year']]))"
      ],
      "execution_count": null,
      "outputs": [
        {
          "output_type": "execute_result",
          "data": {
            "text/plain": [
              "[<matplotlib.lines.Line2D at 0x7f81e1816050>]"
            ]
          },
          "metadata": {},
          "execution_count": 62
        },
        {
          "output_type": "display_data",
          "data": {
            "image/png": "[encoded data removed]",
            "text/plain": [
              "<Figure size 432x288 with 1 Axes>"
            ]
          },
          "metadata": {
            "needs_background": "light"
          }
        }
      ]
    },
    {
      "cell_type": "code",
      "metadata": {
        "colab": {
          "base_uri": "https://localhost:8080/"
        },
        "id": "H2YHNt_gYHPq",
        "outputId": "df7a64bb-4ace-4ea8-a47e-47c6fbbd5fbf"
      },
      "source": [
        ""
      ],
      "execution_count": null,
      "outputs": [
        {
          "output_type": "execute_result",
          "data": {
            "text/plain": [
              "<function matplotlib.pyplot.show>"
            ]
          },
          "metadata": {},
          "execution_count": 64
        }
      ]
    },
    {
      "cell_type": "code",
      "metadata": {
        "id": "Eyu7XxwCZVAD"
      },
      "source": [
        ""
      ],
      "execution_count": null,
      "outputs": []
    }
  ]
}